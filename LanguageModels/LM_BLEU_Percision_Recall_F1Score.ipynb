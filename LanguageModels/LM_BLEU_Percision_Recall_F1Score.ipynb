{
 "cells": [
  {
   "attachments": {},
   "cell_type": "markdown",
   "id": "1c30c72f",
   "metadata": {},
   "source": [
    "# Natural Language Procssing"
   ]
  },
  {
   "attachments": {},
   "cell_type": "markdown",
   "id": "e8f7df23",
   "metadata": {},
   "source": [
    "## Uni-Gram and Bi-Gram Language Models"
   ]
  },
  {
   "attachments": {},
   "cell_type": "markdown",
   "id": "fa6add9b",
   "metadata": {},
   "source": [
    "## 1) BLEU Score"
   ]
  },
  {
   "attachments": {},
   "cell_type": "markdown",
   "id": "7472a755",
   "metadata": {},
   "source": [
    "    Issue of BLEU Score:\n",
    "\n",
    "        1. BLEU – Bilingual Evaluation Understudy\n",
    "        2. The advantages of BLEU score are, it is quick, inexpensive, language independent, unbiased\n",
    "        3. Though BLEU score is inexpensive and unbiased, it only measures the similarity for word-to-word\n",
    "        4. Exact translations with different words cause poor match with human references\n",
    "        5. It does not take paraphrases and synonyms into count\n",
    "        6. Nonsensical language that contains the right phrases in the wrong order can produce maximum score"
   ]
  },
  {
   "attachments": {},
   "cell_type": "markdown",
   "id": "3b996ac9",
   "metadata": {},
   "source": [
    "    Candidate translation sentences and their references below:\n",
    "    \n",
    "    Candidate1: It is a guide to action which ensures that the military always obeys the commands of the party.\n",
    "    Candidate2: It is to ensure the troops forever hearing the activity guidebook that party direct.\n",
    "    Reference1: It is a guide to action that ensures that the military will forever heed Party commands. Reference2: It is the guiding principle which guarantees the military forces always being under the command of the Party.\n",
    "    Reference3: It is the practical guide for the army always to heed the directions of the party."
   ]
  },
  {
   "attachments": {},
   "cell_type": "markdown",
   "id": "211bfa6d",
   "metadata": {},
   "source": [
    "## Evaluating the translation model performance using BLEU score where n-gram order, N=2."
   ]
  },
  {
   "cell_type": "code",
   "execution_count": 1,
   "id": "04629fc0",
   "metadata": {},
   "outputs": [
    {
     "name": "stdout",
     "output_type": "stream",
     "text": [
      "unigram cad1: 0.9444444444444444 = 17/18\n",
      "bigram cad1: 0.5882352941176471 = 10/17\n",
      "unigram cad2: 0.5714285714285714 = 8/14\n",
      "bigram cad2: 0.07692307692307693 = 1/13\n",
      "\n",
      "cad1 BLEU: 0.7453559924999299\n",
      "cad2 BLEU: 0.20965696734438366\n"
     ]
    }
   ],
   "source": [
    "cad1 = \"It is a guide to action which ensures that the military always obeys the commands of the party\".split()\n",
    "cad2 = \"It is to ensure the troops forever hearing the activity guidebook that party direct\".split()\n",
    "ref1 = \"It is a guide to action that ensures that the military will forever heed Party commands\".split()\n",
    "ref2 = \"It is the guiding principle which guarantees the military forces always being under the command of the Party\".split()\n",
    "ref3 = \"It is the practical guide for the army always to heed the directions of the party\".split()\n",
    "cad1_uni_num = 0\n",
    "cad2_uni_num = 0\n",
    "for i in cad1:\n",
    "    if (i in ref1) or (i in ref2) or (i in ref3):\n",
    "        cad1_uni_num = cad1_uni_num + 1\n",
    "for i in cad2:\n",
    "    if (i in ref1) or (i in ref2) or (i in ref3):\n",
    "        cad2_uni_num = cad2_uni_num + 1\n",
    "cad1_unigram = cad1_uni_num/len(cad1)\n",
    "cad2_unigram = cad2_uni_num/len(cad2)\n",
    "cad1_bi_break = [[cad1[i], cad1[i+1]] for i in range(len(cad1)-1)]\n",
    "cad2_bi_break = [[cad2[i], cad2[i+1]] for i in range(len(cad2)-1)]\n",
    "ref1_bi_break = [[ref1[i], ref1[i+1]] for i in range(len(ref1)-1)]\n",
    "ref2_bi_break = [[ref2[i], ref2[i+1]] for i in range(len(ref2)-1)]\n",
    "ref3_bi_break = [[ref3[i], ref3[i+1]] for i in range(len(ref3)-1)]\n",
    "cad1_bi_num = 0\n",
    "cad2_bi_num = 0\n",
    "for i in cad1_bi_break:\n",
    "    if (i in ref1_bi_break) or (i in ref2_bi_break) or (i in ref3_bi_break):\n",
    "        cad1_bi_num = cad1_bi_num + 1\n",
    "for i in cad2_bi_break:\n",
    "    if (i in ref1_bi_break) or (i in ref2_bi_break) or (i in ref3_bi_break):\n",
    "        cad2_bi_num = cad2_bi_num + 1\n",
    "cad1_bigram = cad1_bi_num/len(cad1_bi_break)\n",
    "cad2_bigram = cad2_bi_num/len(cad2_bi_break)\n",
    "print(\"unigram cad1:\", cad1_unigram, \"=\", str(f'{cad1_uni_num}/{len(cad1)}'))\n",
    "print(\"bigram cad1:\", cad1_bigram, \"=\", f'{cad1_bi_num}/{len(cad1_bi_break)}')\n",
    "print(\"unigram cad2:\", cad2_unigram, \"=\", f'{cad2_uni_num}/{len(cad2)}')\n",
    "print(\"bigram cad2:\", cad2_bigram, \"=\", f'{cad2_bi_num}/{len(cad2_bi_break)}')\n",
    "cad1_BLEU = (cad1_unigram * cad1_bigram)**(1/2)\n",
    "cad2_BLEU = (cad2_unigram * cad2_bigram)**(1/2)\n",
    "print()\n",
    "print(\"cad1 BLEU:\", cad1_BLEU)\n",
    "print(\"cad2 BLEU:\", cad2_BLEU)"
   ]
  },
  {
   "attachments": {},
   "cell_type": "markdown",
   "id": "bdf15d9a",
   "metadata": {},
   "source": [
    "## The best reference during the computation."
   ]
  },
  {
   "cell_type": "code",
   "execution_count": 2,
   "id": "1e194105",
   "metadata": {},
   "outputs": [
    {
     "name": "stdout",
     "output_type": "stream",
     "text": [
      "ref1_cad1: 8, ref2_cad1: 3, ref3_cad1: 3\n",
      "ref1_cad1: 1, ref2_cad1: 1, ref3_cad1: 1\n"
     ]
    }
   ],
   "source": [
    "ref1_cad1, ref2_cad1, ref3_cad1 = 0, 0, 0\n",
    "ref1_cad2, ref2_cad2, ref3_cad2 = 0, 0, 0\n",
    "for i in cad1_bi_break:\n",
    "    if i in ref1_bi_break:\n",
    "        ref1_cad1 = ref1_cad1 + 1\n",
    "    if i in ref2_bi_break:\n",
    "        ref2_cad1 = ref2_cad1 + 1\n",
    "    if i in ref3_bi_break:\n",
    "        ref3_cad1 = ref3_cad1 + 1\n",
    "print(f'ref1_cad1: {ref1_cad1}, ref2_cad1: {ref2_cad1}, ref3_cad1: {ref3_cad1}')\n",
    "for i in cad2_bi_break:\n",
    "    if i in ref1_bi_break:\n",
    "        ref1_cad2 = ref1_cad2 + 1\n",
    "    if i in ref2_bi_break:\n",
    "        ref2_cad2 = ref2_cad2 + 1\n",
    "    if i in ref3_bi_break:\n",
    "        ref3_cad2 = ref3_cad2 + 1\n",
    "print(f'ref1_cad1: {ref1_cad2}, ref2_cad1: {ref2_cad2}, ref3_cad1: {ref3_cad2}')"
   ]
  },
  {
   "cell_type": "code",
   "execution_count": 3,
   "id": "38a2c5f4",
   "metadata": {},
   "outputs": [
    {
     "name": "stdout",
     "output_type": "stream",
     "text": [
      "ref1_cad1: 13, ref2_cad1: 9, ref3_cad1: 10\n",
      "ref1_cad1: 7, ref2_cad1: 4, ref3_cad1: 6\n"
     ]
    }
   ],
   "source": [
    "ref1_cad1, ref2_cad1, ref3_cad1 = 0, 0, 0\n",
    "ref1_cad2, ref2_cad2, ref3_cad2 = 0, 0, 0\n",
    "for i in cad1:\n",
    "    if i in ref1:\n",
    "        ref1_cad1 = ref1_cad1 + 1\n",
    "    if i in ref2:\n",
    "        ref2_cad1 = ref2_cad1 + 1\n",
    "    if i in ref3:\n",
    "        ref3_cad1 = ref3_cad1 + 1\n",
    "print(f'ref1_cad1: {ref1_cad1}, ref2_cad1: {ref2_cad1}, ref3_cad1: {ref3_cad1}')\n",
    "for i in cad2:\n",
    "    if i in ref1:\n",
    "        ref1_cad2 = ref1_cad2 + 1\n",
    "    if i in ref2:\n",
    "        ref2_cad2 = ref2_cad2 + 1\n",
    "    if i in ref3:\n",
    "        ref3_cad2 = ref3_cad2 + 1\n",
    "print(f'ref1_cad1: {ref1_cad2}, ref2_cad1: {ref2_cad2}, ref3_cad1: {ref3_cad2}')"
   ]
  },
  {
   "attachments": {},
   "cell_type": "markdown",
   "id": "d397e570",
   "metadata": {},
   "source": [
    "## 2) Recall, Percision, and F1 Score"
   ]
  },
  {
   "attachments": {},
   "cell_type": "markdown",
   "id": "1ec618ec",
   "metadata": {},
   "source": [
    "    Building two summarizer systems, and the system generates the following summary. The summarizer was named as S1 and S2, respectively including with reference summary.\n",
    "\n",
    "    S1 Summary: neymar scored his side's second goal with a curling free kick, and 15 minutes to play in the 2-2 draw at sevilla on saturday night, according to reports in spain.\n",
    "\n",
    "    S2 Summary: barcelona's neymar substituted in 2-2 draw at sevilla on saturday night, spain's kamui kobayashi claims a late free kick in the champions league after his second goal with the score.\n",
    "\n",
    "    Reference summary: neymar was taken off with barcelona 2-1 up against sevilla. the brazil captain was visibly angry, and barca went on to draw 2-2. neymar has been replaced 15 times in 34 games this season. click here for all the latest barcelona news."
   ]
  },
  {
   "attachments": {},
   "cell_type": "markdown",
   "id": "e4820635",
   "metadata": {},
   "source": [
    "### Computing the performance of the system using ROUGE-1 and ROUGE-2 - precision, recall, and f1 score metrics and comparing both systems with respective ROUGE metrics (e.g., ROUGE-1 S1 vs. ROUGE-1 S2). Based on the comparison, which one of the ROUGE metrics would be selected to evaluate the system performance?"
   ]
  },
  {
   "attachments": {},
   "cell_type": "markdown",
   "id": "cc63dadd",
   "metadata": {},
   "source": [
    "    ROGUE recall = (number of overlapping words)/(total number of words in reference summary) \n",
    "    ROGUE precision = (number of overlapping words)/(total number of words in candidate summary) \n",
    "    𝐹1 𝑆𝑐𝑜𝑟𝑒 = (2 ∗ 𝑝𝑟𝑒𝑐𝑖𝑠𝑖𝑜𝑛 ∗ 𝑟𝑒𝑐𝑎𝑙𝑙)/(𝑝𝑟𝑒𝑐𝑖𝑠𝑖𝑜𝑛 + 𝑟𝑒𝑐𝑎𝑙𝑙)"
   ]
  },
  {
   "cell_type": "code",
   "execution_count": 4,
   "id": "5c90b6d0-c6d2-4b0c-be49-884e8d94065a",
   "metadata": {},
   "outputs": [
    {
     "name": "stdout",
     "output_type": "stream",
     "text": [
      "summary1_rogue1_recall:  0.30952380952380953 = 13/42\n",
      "summary1_rogue1_precision:  0.43333333333333335 = 13/30\n",
      "summary2_rogue1_recall:  0.23809523809523808 = 10/42\n",
      "summary2_rogue1_precision:  0.3333333333333333 = 10/30 \n",
      "\n",
      "summary1_rogue1_f1_score:  0.3611111111111111\n",
      "summary2_rogue1_f1_score:  0.2777777777777778\n"
     ]
    }
   ],
   "source": [
    "summary1 = \"neymar scored his side's second goal with a curling free kick, and 15 minutes to play in the 2-2 draw at sevilla on saturday night according to reports in spain\".split()\n",
    "summary2 = \"barcelona's neymar substituted in 2-2 draw at sevilla on saturday night spain's kamui kobayashi claims a late free kick in the champions league after his second goal with the score\".split()\n",
    "reference = \"neymar was taken off with barcelona 2-1 up against sevilla the brazil captain was visibly angry and barca went on to draw 2-2 neymar has been replaced 15 times in 34 games this season click here for all the latest barcelona news\".split()\n",
    "# Rogue1\n",
    "summary1_rogue1_uni_num = 0\n",
    "summary2_rogue1_uni_num = 0\n",
    "for i in summary1:\n",
    "    if i in reference:\n",
    "        summary1_rogue1_uni_num = summary1_rogue1_uni_num + 1\n",
    "for i in summary2:\n",
    "    if i in reference:\n",
    "        summary2_rogue1_uni_num = summary2_rogue1_uni_num + 1 \n",
    "summary1_rogue1_recall = summary1_rogue1_uni_num/len(reference)\n",
    "summary1_rogue1_precision = summary1_rogue1_uni_num/len(summary1)\n",
    "print(\"summary1_rogue1_recall: \", summary1_rogue1_recall, \"=\", f'{summary1_rogue1_uni_num}/{len(reference)}')\n",
    "print(\"summary1_rogue1_precision: \", summary1_rogue1_precision, \"=\", f'{summary1_rogue1_uni_num}/{len(summary1)}')\n",
    "summary2_rogue1_recall = summary2_rogue1_uni_num/len(reference)\n",
    "summary2_rogue1_precision = summary2_rogue1_uni_num/len(summary1)\n",
    "print(\"summary2_rogue1_recall: \", summary2_rogue1_recall, \"=\", f'{summary2_rogue1_uni_num}/{len(reference)}')\n",
    "print(\"summary2_rogue1_precision: \", summary2_rogue1_precision, \"=\", f'{summary2_rogue1_uni_num}/{len(summary1)}', \"\\n\")\n",
    "# Rogue2\n",
    "summary1_rogue2_bi_num = 0\n",
    "summary2_rogue2_bi_num = 0\n",
    "summary1_bi_break = [[summary1[i], summary1[i+1]] for i in range(len(summary1)-1)]\n",
    "summary2_bi_break = [[summary2[i], summary2[i+1]] for i in range(len(summary2)-1)]\n",
    "reference_bi_break = [[reference[i], reference[i+1]] for i in range(len(reference)-1)]\n",
    "for i in summary1_bi_break:\n",
    "    if i in reference_bi_break:\n",
    "        summary1_rogue2_bi_num = summary1_rogue2_bi_num + 1\n",
    "for i in summary2_bi_break:\n",
    "    if i in reference_bi_break:\n",
    "        summary2_rogue2_bi_num = summary2_rogue2_bi_num + 1\n",
    "        \n",
    "print(\"summary1_rogue1_f1_score: \", 2*((summary1_rogue1_precision*summary1_rogue1_recall)/(summary1_rogue1_precision+summary1_rogue1_recall)))\n",
    "print(\"summary2_rogue1_f1_score: \", 2*((summary2_rogue1_precision*summary2_rogue1_recall)/(summary2_rogue1_precision+summary2_rogue1_recall)))"
   ]
  },
  {
   "attachments": {},
   "cell_type": "markdown",
   "id": "0adfde54",
   "metadata": {},
   "source": [
    "    According to the above comparison, I select ROGUE 1 F1 Scores as the metrics for further evaluation performance. Because ROGUE 2 has nothing to evaluate, and I am choosing F1 Score because it contains both the precision and recall scores with the normalized form."
   ]
  }
 ],
 "metadata": {
  "kernelspec": {
   "display_name": "Python 3 (ipykernel)",
   "language": "python",
   "name": "python3"
  },
  "language_info": {
   "codemirror_mode": {
    "name": "ipython",
    "version": 3
   },
   "file_extension": ".py",
   "mimetype": "text/x-python",
   "name": "python",
   "nbconvert_exporter": "python",
   "pygments_lexer": "ipython3",
   "version": "3.11.2"
  }
 },
 "nbformat": 4,
 "nbformat_minor": 5
}
