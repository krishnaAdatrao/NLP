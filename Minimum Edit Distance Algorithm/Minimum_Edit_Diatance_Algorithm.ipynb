{
 "cells": [
  {
   "attachments": {},
   "cell_type": "markdown",
   "metadata": {},
   "source": [
    "# Natual Language Processing"
   ]
  },
  {
   "attachments": {},
   "cell_type": "markdown",
   "metadata": {},
   "source": [
    "## Implementation of a Minimum Edit Distance Algorithm "
   ]
  },
  {
   "attachments": {},
   "cell_type": "markdown",
   "metadata": {},
   "source": [
    "Which takes two strings of any length and returns the total number of distances required to convert one string to another. The below code is flexible to take costs for the insertion, deletion, and substitute operations."
   ]
  },
  {
   "attachments": {},
   "cell_type": "markdown",
   "metadata": {},
   "source": [
    "## Minimum Edit Distance:\n",
    "\n",
    "The Minimum Edit Distance algorithm, also known as the Levenshtein distance algorithm, is a dynamic programming algorithm that is used to find the minimum number of operations (edits) required to transform one string into another. The operations include insertion, deletion, and substitution of characters.\n",
    "\n",
    "The algorithm works by constructing a matrix, where each cell represents the minimum number of edits required to transform a prefix of one string into a prefix of another. The first row and column of the matrix represent the empty string and each cell is filled by taking the minimum of the three possible operations:\n",
    "\n",
    "Insertion: Add a character to the first string\n",
    "Deletion: Remove a character from the first string\n",
    "Substitution: Replace a character in the first string with another character\n",
    "The value in the bottom right cell of the matrix represents the minimum edit distance between the two strings.\n",
    "\n",
    "The algorithm has numerous applications in natural language processing, spell checking, and DNA sequencing."
   ]
  },
  {
   "attachments": {},
   "cell_type": "markdown",
   "metadata": {},
   "source": [
    "![Alt Text](min_edit_dis.jpg)"
   ]
  },
  {
   "cell_type": "code",
   "execution_count": 1,
   "metadata": {},
   "outputs": [
    {
     "name": "stdout",
     "output_type": "stream",
     "text": [
      "\n",
      "        K   r   i   s  h  n  a     A   d   a   t   r   a   o\n",
      "*                                                           \n",
      "    0   1   2   3   4  5  6  7  8  9  10  11  12  13  14  15\n",
      "K   1   0   1   2   3  4  5  6  7  8   9  10  11  12  13  14\n",
      "r   2   1   0   1   2  3  4  5  6  7   8   9  10  11  12  13\n",
      "i   3   2   1   0   1  2  3  4  5  6   7   8   9  10  11  12\n",
      "s   4   3   2   1   0  1  2  3  4  5   6   7   8   9  10  11\n",
      "h   5   4   3   2   1  0  1  2  3  4   5   6   7   8   9  10\n",
      "n   6   5   4   3   2  1  0  1  2  3   4   5   6   7   8   9\n",
      "a   7   6   5   4   3  2  1  0  1  2   3   4   5   6   7   8\n",
      "    8   7   6   5   4  3  2  1  0  1   2   3   4   5   6   7\n",
      "G   9   8   7   6   5  4  3  2  1  1   2   3   4   5   6   7\n",
      "i  10   9   8   7   6  5  4  3  2  2   2   3   4   5   6   7\n",
      "t  11  10   9   8   7  6  5  4  3  3   3   3   3   4   5   6\n",
      "h  12  11  10   9   8  7  6  5  4  4   4   4   4   4   5   6\n",
      "u  13  12  11  10   9  8  7  6  5  5   5   5   5   5   5   6\n",
      "b  14  13  12  11  10  9  8  7  6  6   6   6   6   6   6   6 \n",
      "\n",
      "Edit Distance:  6\n"
     ]
    }
   ],
   "source": [
    "import pandas as pd\n",
    "def Distance_Matrix(first_string, second_string, delete_cost = 1, insert_cost = 1):\n",
    "\n",
    "    distance = [[0 for x in range(len(first_string)+1)] for x in range(len(second_string)+1)]\n",
    "\n",
    "    for k in range(1, len(second_string)+1): distance[k][0] = k\n",
    "    for r in range(1, len(first_string)+1): distance[0][r] = r\n",
    "    for i in range(1, len(first_string)+1):\n",
    "        for s in range(1, len(second_string)+1):\n",
    "            if second_string[s-1] == first_string[i-1]: replace_cost = 0\n",
    "            else: replace_cost = 1\n",
    "            distance[s][i] = min(distance[s-1][i] + delete_cost, distance[s][i-1] + insert_cost, distance[s-1][i-1] + replace_cost)\n",
    "\n",
    "    lis_matrix = [distance[h] for h in range(len(second_string)+1)]\n",
    "    data_frame = pd.DataFrame(lis_matrix)\n",
    "    data_frame.columns = [' ']+ list(first_string)\n",
    "    rows = list(second_string)[::-1]\n",
    "    rows.append(\" \")\n",
    "    row = rows[::-1]\n",
    "    data_frame['*'] = row\n",
    "    data_frame.set_index('*', drop=True, inplace=True)\n",
    "    \n",
    "    print()\n",
    "    print(data_frame, \"\\n\")\n",
    "    return distance[s][i]\n",
    "\n",
    "first_string = input(\"Enter First string: \")     # spokesman confirms\n",
    "second_string = input(\"Enter Second String: \")     # spokeswoman said\n",
    "delete_cost = int(input(\"Enter Delete Cost: \"))   # 1\n",
    "insert_cost = int(input(\"Enter Insert Cost: \"))   # 1\n",
    "    \n",
    "print(\"Edit Distance: \", Distance_Matrix(first_string, second_string, delete_cost, insert_cost))"
   ]
  },
  {
   "cell_type": "code",
   "execution_count": null,
   "metadata": {},
   "outputs": [],
   "source": []
  }
 ],
 "metadata": {
  "kernelspec": {
   "display_name": "Python 3",
   "language": "python",
   "name": "python3"
  },
  "language_info": {
   "codemirror_mode": {
    "name": "ipython",
    "version": 3
   },
   "file_extension": ".py",
   "mimetype": "text/x-python",
   "name": "python",
   "nbconvert_exporter": "python",
   "pygments_lexer": "ipython3",
   "version": "3.11.2"
  },
  "orig_nbformat": 4
 },
 "nbformat": 4,
 "nbformat_minor": 2
}
